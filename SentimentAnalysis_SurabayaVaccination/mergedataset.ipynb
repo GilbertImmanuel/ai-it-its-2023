{
 "cells": [
  {
   "cell_type": "code",
   "execution_count": 1,
   "id": "18433714",
   "metadata": {},
   "outputs": [],
   "source": [
    "import pandas as pd\n",
    "import glob"
   ]
  },
  {
   "cell_type": "code",
   "execution_count": 6,
   "id": "463ce41d",
   "metadata": {},
   "outputs": [
    {
     "name": "stdout",
     "output_type": "stream",
     "text": [
      "Merged file saved as merged_tweets.csv\n"
     ]
    },
    {
     "name": "stderr",
     "output_type": "stream",
     "text": [
      "C:\\Users\\Gilbert\\AppData\\Local\\Temp\\ipykernel_3176\\903628291.py:7: FutureWarning: The error_bad_lines argument has been deprecated and will be removed in a future version. Use on_bad_lines in the future.\n",
      "\n",
      "\n",
      "  return pd.read_csv(file_path, delimiter=';', error_bad_lines=False)\n",
      "C:\\Users\\Gilbert\\AppData\\Local\\Temp\\ipykernel_3176\\903628291.py:7: FutureWarning: The error_bad_lines argument has been deprecated and will be removed in a future version. Use on_bad_lines in the future.\n",
      "\n",
      "\n",
      "  return pd.read_csv(file_path, delimiter=';', error_bad_lines=False)\n",
      "C:\\Users\\Gilbert\\AppData\\Local\\Temp\\ipykernel_3176\\903628291.py:7: FutureWarning: The error_bad_lines argument has been deprecated and will be removed in a future version. Use on_bad_lines in the future.\n",
      "\n",
      "\n",
      "  return pd.read_csv(file_path, delimiter=';', error_bad_lines=False)\n",
      "C:\\Users\\Gilbert\\AppData\\Local\\Temp\\ipykernel_3176\\903628291.py:7: FutureWarning: The error_bad_lines argument has been deprecated and will be removed in a future version. Use on_bad_lines in the future.\n",
      "\n",
      "\n",
      "  return pd.read_csv(file_path, delimiter=';', error_bad_lines=False)\n",
      "C:\\Users\\Gilbert\\AppData\\Local\\Temp\\ipykernel_3176\\903628291.py:7: FutureWarning: The error_bad_lines argument has been deprecated and will be removed in a future version. Use on_bad_lines in the future.\n",
      "\n",
      "\n",
      "  return pd.read_csv(file_path, delimiter=';', error_bad_lines=False)\n",
      "C:\\Users\\Gilbert\\AppData\\Local\\Temp\\ipykernel_3176\\903628291.py:7: FutureWarning: The error_bad_lines argument has been deprecated and will be removed in a future version. Use on_bad_lines in the future.\n",
      "\n",
      "\n",
      "  return pd.read_csv(file_path, delimiter=';', error_bad_lines=False)\n",
      "C:\\Users\\Gilbert\\AppData\\Local\\Temp\\ipykernel_3176\\903628291.py:7: FutureWarning: The error_bad_lines argument has been deprecated and will be removed in a future version. Use on_bad_lines in the future.\n",
      "\n",
      "\n",
      "  return pd.read_csv(file_path, delimiter=';', error_bad_lines=False)\n",
      "C:\\Users\\Gilbert\\AppData\\Local\\Temp\\ipykernel_3176\\903628291.py:7: FutureWarning: The error_bad_lines argument has been deprecated and will be removed in a future version. Use on_bad_lines in the future.\n",
      "\n",
      "\n",
      "  return pd.read_csv(file_path, delimiter=';', error_bad_lines=False)\n"
     ]
    }
   ],
   "source": [
    "def read_csv_file(file_path):\n",
    "    try:\n",
    "        # Attempt to read the CSV file\n",
    "        return pd.read_csv(file_path)\n",
    "    except pd.errors.ParserError as e:\n",
    "        # If a ParserError occurs, try reading the CSV with a different delimiter\n",
    "        return pd.read_csv(file_path, delimiter=';', error_bad_lines=False)\n",
    "\n",
    "def merge_csv_remove_duplicates(directory, output_file):\n",
    "    # Find all CSV files in the specified directory\n",
    "    file_list = glob.glob(f'{directory}/*.csv')\n",
    "\n",
    "    # Read all CSV files and store them in a list\n",
    "    dataframes = [read_csv_file(file) for file in file_list]\n",
    "\n",
    "    # Concatenate all dataframes into one\n",
    "    merged_df = pd.concat(dataframes, ignore_index=True)\n",
    "\n",
    "    # Remove duplicate rows based on the column(s) that identify tweets\n",
    "    # Change 'tweet_column' to the actual name of your tweet column\n",
    "    clean_df = merged_df.drop_duplicates(subset=['full_text'])\n",
    "\n",
    "    # Save the clean dataframe to a new CSV file\n",
    "    clean_df.to_csv(output_file, index=False)\n",
    "    print(f\"Merged file saved as {output_file}\")\n",
    "\n",
    "# Directory containing CSV files\n",
    "directory = './data/'  # Update this path to your data directory\n",
    "output_file = 'vaksinasi_covid_surabaya.csv'\n",
    "\n",
    "# Call the function\n",
    "merge_csv_remove_duplicates(directory, output_file)"
   ]
  }
 ],
 "metadata": {
  "kernelspec": {
   "display_name": "Python 3 (ipykernel)",
   "language": "python",
   "name": "python3"
  },
  "language_info": {
   "codemirror_mode": {
    "name": "ipython",
    "version": 3
   },
   "file_extension": ".py",
   "mimetype": "text/x-python",
   "name": "python",
   "nbconvert_exporter": "python",
   "pygments_lexer": "ipython3",
   "version": "3.11.4"
  }
 },
 "nbformat": 4,
 "nbformat_minor": 5
}
